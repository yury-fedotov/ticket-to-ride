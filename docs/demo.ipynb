{
 "cells": [
  {
   "cell_type": "markdown",
   "id": "5e78b47f-7539-44a8-a1ef-3e217b404f1d",
   "metadata": {},
   "source": [
    "# Demo\n",
    "\n",
    "This page showcases game board analysis functionality provided by the package."
   ]
  },
  {
   "cell_type": "markdown",
   "id": "7d4af5dd-73d7-4e3e-99c2-9599e44766ba",
   "metadata": {},
   "source": [
    "## Initialize a map\n",
    "\n",
    "This demo will leverage the standard North America map which is an exact replica of the most popular game distribution.\n",
    "However, all illustrated functionality works with arbirtary maps."
   ]
  },
  {
   "cell_type": "code",
   "execution_count": null,
   "id": "fcf0bea5-577d-427b-953f-08d93d3a9c5f",
   "metadata": {},
   "outputs": [],
   "source": [
    "from ticket_to_ride.default_components import north_america_map\n",
    "print(north_america_map)"
   ]
  },
  {
   "cell_type": "markdown",
   "id": "ce2cc3bd-31d3-4f57-93a1-30b3caff8037",
   "metadata": {},
   "source": [
    "## Visualize a map\n",
    "\n",
    "With a single method call, we get a graph visualization of the map."
   ]
  },
  {
   "cell_type": "code",
   "execution_count": null,
   "id": "08bc5df6-4089-4bfa-b24a-444956870d8d",
   "metadata": {
    "ExecuteTime": {
     "end_time": "2024-06-01T03:59:09.097833Z",
     "start_time": "2024-06-01T03:59:08.528395Z"
    }
   },
   "outputs": [],
   "source": [
    "north_america_map.visualize()"
   ]
  },
  {
   "cell_type": "markdown",
   "id": "754a02cb-f99a-4292-8a32-35fc1ebedcdf",
   "metadata": {},
   "source": [
    "## Analyze metrics\n",
    "\n",
    "As easy as you just visualized it, you can access map metrics that reveal insights about it based on graph theory."
   ]
  },
  {
   "cell_type": "markdown",
   "id": "d764b268-9ca9-4765-aa96-4f78a8eb004f",
   "metadata": {},
   "source": [
    "### Centrality"
   ]
  },
  {
   "cell_type": "code",
   "execution_count": null,
   "id": "f38cf81d-82b6-47e7-a40c-2126612d928c",
   "metadata": {
    "ExecuteTime": {
     "end_time": "2024-06-01T03:59:10.869363Z",
     "start_time": "2024-06-01T03:59:10.866567Z"
    }
   },
   "outputs": [],
   "source": [
    "north_america_map.calculate_centrality()"
   ]
  },
  {
   "cell_type": "markdown",
   "id": "2db4a333-2d63-4afe-a708-00d23510055f",
   "metadata": {},
   "source": [
    "### Contrast ratio\n",
    "\n",
    "***Contrast ratio*** is a fraction of routes that have color other than neutral."
   ]
  },
  {
   "cell_type": "code",
   "execution_count": null,
   "id": "78e2dc6d-ad85-4986-9037-adc5ff37b141",
   "metadata": {},
   "outputs": [],
   "source": [
    "north_america_map.calculate_contrast_ratio()"
   ]
  }
 ],
 "metadata": {
  "kernelspec": {
   "display_name": "Python 3 (ipykernel)",
   "language": "python",
   "name": "python3"
  },
  "language_info": {
   "codemirror_mode": {
    "name": "ipython",
    "version": 3
   },
   "file_extension": ".py",
   "mimetype": "text/x-python",
   "name": "python",
   "nbconvert_exporter": "python",
   "pygments_lexer": "ipython3",
   "version": "3.11.9"
  }
 },
 "nbformat": 4,
 "nbformat_minor": 5
}
